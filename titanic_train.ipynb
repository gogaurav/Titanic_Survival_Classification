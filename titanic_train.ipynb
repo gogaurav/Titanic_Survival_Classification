{
 "cells": [
  {
   "cell_type": "code",
   "execution_count": 37,
   "metadata": {},
   "outputs": [],
   "source": [
    "import numpy as np\n",
    "import pandas as pd\n",
    "from sklearn.ensemble import RandomForestClassifier\n",
    "from sklearn.model_selection import GridSearchCV\n",
    "from sklearn.metrics import accuracy_score, make_scorer\n",
    "import xgboost as xgb\n",
    "import time\n",
    "import pickle\n",
    "\n",
    "def train_model(X_train, X_test, y_train, y_test):\n",
    "    rfc = RandomForestClassifier(random_state=0, verbose=25)\n",
    "    xgboost = xgb.XGBClassifier(random_state=0, verbosity=2)\n",
    "    rfc_param = {\n",
    "        'N_estimators': [120, 300],\n",
    "        'Max_depth': [5, 8, 15],\n",
    "        'Min_samples_split': [1, 2, 5, 10],\n",
    "        'Min_samples_leaf': [1, 2, 5, 10]\n",
    "#         'Max_features': []\n",
    "    }\n",
    "    \n",
    "    xgb_param = {\n",
    "        'Eta': [0.01, 0.015, 0.025, 0.05, 0.1],\n",
    "        'Gamma': [0.05, 0.1, 0.3, 0.5, 0.7, 0.9, 1.0],\n",
    "        'Max_depth': [3, 12, 7, 9, 12],\n",
    "        'Min_child_weight': [1, 7, 3, 5, 7],\n",
    "#         'Subsample'\n",
    "#         'Colsample_bytree'\n",
    "        'Lambda': [0.01, 1.0, 0.1, 1.0],\n",
    "        'alpha': [0, 0.1, 0.5, 1.0]\n",
    "    }\n",
    "    \n",
    "    gs_rfc = GridSearchCV(rfc, param_grid=rfc_param, cv=10, scoring=make_scorer(accuracy_score), n_jobs=-1)\n",
    "    gs_xgb = GridSearchCV(xgboost, param_grid=xgb_param, cv=10, scoring=make_scorer(accuracy_score), n_jobs=-1)\n",
    "    \n",
    "    models = {\n",
    "#         'gs_rfc': gs_rfc,\n",
    "        'gs_xgb': gs_xgb\n",
    "    }\n",
    "    model_names = {'gs_rfc': 'Random Forest', 'gs_xgb': 'XGBoost'}\n",
    "    \n",
    "    best_score = 0    \n",
    "    for key, clf in models.items():\n",
    "        start_time = time.clock()\n",
    "        clf.fit(X_train, y_train)\n",
    "        print(\"Training Score:{}\".format(accuracy_score(y_train, clf.predict(X_train))))\n",
    "        test_score = accuracy_score(y_test, clf.predict(X_test))\n",
    "        print(\"Test Data Score:{}\".format(test_score))\n",
    "        print(\"and best params {0}\".format(clf.best_params_))\n",
    "        if test_score > best_score:\n",
    "            best_model = clf\n",
    "            best_model_name = model_names[key]\n",
    "            best_score = test_score\n",
    "        print(\"Time taken: {}\\n\".format(time.clock() - start_time))\n",
    "    \n",
    "    print(\"The best model is:{0} with score of {1}\".format(best_model, best_score))\n",
    "    file_name = \"Best Model\" + best_model_name + \".p\"\n",
    "    with open(file_name, 'wb') as f:\n",
    "        pickle.dump(best_model, f)"
   ]
  },
  {
   "cell_type": "code",
   "execution_count": 38,
   "metadata": {},
   "outputs": [
    {
     "name": "stdout",
     "output_type": "stream",
     "text": [
      "Training Score:0.8802395209580839\n",
      "Test Data Score:0.8475336322869955\n",
      "and best params {'Eta': 0.01, 'Gamma': 0.05, 'Lambda': 0.01, 'Max_depth': 3, 'Min_child_weight': 1, 'alpha': 0}\n",
      "Time taken: 4643.962741428057\n",
      "\n",
      "The best model is:GridSearchCV(cv=10, error_score='raise',\n",
      "       estimator=XGBClassifier(base_score=0.5, booster='gbtree', colsample_bylevel=1,\n",
      "       colsample_bytree=1, gamma=0, learning_rate=0.1, max_delta_step=0,\n",
      "       max_depth=3, min_child_weight=1, missing=None, n_estimators=100,\n",
      "       n_jobs=1, nthread=None, objective='binary:logistic', random_state=0,\n",
      "       reg_alpha=0, reg_lambda=1, scale_pos_weight=1, seed=None,\n",
      "       silent=True, subsample=1, verbosity=2),\n",
      "       fit_params=None, iid=True, n_jobs=-1,\n",
      "       param_grid={'Eta': [0.01, 0.015, 0.025, 0.05, 0.1], 'Gamma': [0.05, 0.1, 0.3, 0.5, 0.7, 0.9, 1.0], 'Max_depth': [3, 12, 7, 9, 12], 'Min_child_weight': [1, 7, 3, 5, 7], 'Lambda': [0.01, 1.0, 0.1, 1.0], 'alpha': [0, 0.1, 0.5, 1.0]},\n",
      "       pre_dispatch='2*n_jobs', refit=True, return_train_score='warn',\n",
      "       scoring=make_scorer(accuracy_score), verbose=0) with score of 0.8475336322869955\n"
     ]
    },
    {
     "name": "stderr",
     "output_type": "stream",
     "text": [
      "C:\\Users\\gaugo01\\AppData\\Local\\Continuum\\anaconda3\\lib\\site-packages\\sklearn\\preprocessing\\label.py:151: DeprecationWarning: The truth value of an empty array is ambiguous. Returning False, but in future this will result in an error. Use `array.size > 0` to check that an array is not empty.\n",
      "  if diff:\n",
      "C:\\Users\\gaugo01\\AppData\\Local\\Continuum\\anaconda3\\lib\\site-packages\\sklearn\\preprocessing\\label.py:151: DeprecationWarning: The truth value of an empty array is ambiguous. Returning False, but in future this will result in an error. Use `array.size > 0` to check that an array is not empty.\n",
      "  if diff:\n"
     ]
    }
   ],
   "source": [
    "if __name__ == '__main__':\n",
    "    X_train = pd.read_csv('X_train.csv', index_col='PassengerId')\n",
    "    X_test = pd.read_csv('X_test.csv', index_col='PassengerId')\n",
    "    y_train = pd.read_csv('y_train.csv', index_col=0, header=None)\n",
    "    y_test = pd.read_csv('y_test.csv', index_col=0, header=None)\n",
    "    \n",
    "    train_model(X_train, X_test, y_train.values.ravel(), y_test.values.ravel())"
   ]
  },
  {
   "cell_type": "code",
   "execution_count": 14,
   "metadata": {},
   "outputs": [
    {
     "data": {
      "text/plain": [
       "array([0, 1, 0, 0, 1, 1, 0, 0, 1, 1, 0, 0, 0, 1, 1, 1, 0, 0, 1, 0, 0, 1,\n",
       "       1, 0, 0, 0, 1, 0, 0, 0, 0, 0, 0, 1, 1, 1, 0, 0, 0, 0, 0, 0, 0, 1,\n",
       "       0, 1, 1, 0, 0, 0, 1, 0, 0, 0, 1, 1, 0, 0, 1, 0, 1, 0, 0, 0, 0, 0,\n",
       "       0, 1, 0, 1, 1, 1, 0, 0, 0, 1, 0, 1, 0, 0, 1, 1, 1, 0, 0, 1, 0, 1,\n",
       "       0, 0, 0, 0, 1, 0, 1, 0, 1, 0, 1, 1, 1, 0, 0, 0, 0, 0, 0, 1, 0, 1,\n",
       "       0, 0, 0, 1, 0, 1, 0, 0, 0, 1, 0, 1, 1, 1, 0, 0, 0, 1, 1, 0, 0, 1,\n",
       "       0, 1, 0, 0, 0, 0, 1, 1, 1, 0, 1, 0, 1, 0, 1, 0, 0, 1, 0, 0, 0, 0,\n",
       "       0, 1, 0, 1, 0, 1, 0, 0, 0, 0, 0, 1, 0, 0, 1, 0, 0, 0, 1, 0, 0, 1,\n",
       "       0, 0, 1, 0, 1, 0, 0, 0, 0, 1, 0, 0, 0, 1, 0, 0, 0, 0, 0, 0, 0, 0,\n",
       "       0, 1, 1, 0, 0, 0, 1, 0, 0, 0, 0, 1, 1, 0, 1, 0, 1, 0, 0, 0, 1, 1,\n",
       "       0, 0, 0, 0, 0, 0, 1, 0, 0, 1, 1, 0, 0, 0, 1, 0, 1, 0, 0, 1, 0, 0,\n",
       "       1, 1, 0, 0, 1, 1, 1, 0, 1, 0, 0, 1, 0, 0, 0, 0, 0, 1, 0, 0, 0, 1,\n",
       "       0, 0, 1, 1, 0, 0, 0, 0, 0, 0, 1, 0, 0, 0, 0, 0, 1, 0, 0, 0, 1, 0,\n",
       "       1, 0, 0, 1, 0, 1, 0, 1, 0, 0, 0, 1, 1, 1, 1, 0, 0, 0, 0, 0, 0, 0,\n",
       "       1, 1, 1, 0, 0, 0, 1, 0, 1, 1, 1, 0, 0, 0, 0, 1, 1, 0, 0, 1, 0, 1,\n",
       "       1, 0, 0, 0, 0, 1, 1, 0, 1, 0, 1, 0, 1, 0, 0, 0, 1, 0, 0, 0, 1, 0,\n",
       "       0, 0, 0, 0, 1, 1, 0, 0, 0, 0, 1, 1, 0, 0, 0, 1, 0, 0, 0, 1, 1, 0,\n",
       "       0, 1, 0, 0, 0, 0, 0, 0, 1, 1, 1, 1, 1, 1, 1, 1, 0, 0, 0, 1, 1, 0,\n",
       "       0, 1, 1, 0, 0, 0, 0, 0, 0, 0, 1, 1, 1, 0, 0, 0, 0, 1, 1, 0, 0, 0,\n",
       "       1, 0, 1, 0, 1, 0, 1, 1, 1, 1, 0, 0, 1, 0, 1, 0, 0, 1, 1, 1, 0, 0,\n",
       "       0, 1, 0, 0, 1, 0, 0, 0, 0, 0, 0, 0, 0, 0, 0, 0, 0, 0, 0, 0, 1, 1,\n",
       "       0, 0, 0, 1, 1, 0, 0, 1, 1, 1, 0, 0, 0, 1, 0, 0, 1, 0, 1, 0, 1, 0,\n",
       "       0, 1, 0, 0, 0, 0, 0, 1, 0, 0, 0, 0, 1, 1, 1, 0, 0, 1, 1, 1, 0, 1,\n",
       "       1, 0, 0, 0, 0, 1, 0, 0, 1, 1, 0, 0, 0, 1, 1, 0, 1, 0, 1, 1, 1, 0,\n",
       "       1, 1, 1, 0, 0, 0, 1, 0, 0, 0, 1, 0, 0, 1, 0, 0, 0, 1, 0, 0, 1, 1,\n",
       "       1, 0, 1, 1, 0, 1, 0, 1, 1, 0, 0, 0, 0, 0, 0, 1, 1, 0, 0, 0, 0, 0,\n",
       "       1, 0, 0, 0, 1, 1, 1, 0, 0, 1, 0, 0, 0, 0, 0, 1, 1, 1, 0, 1, 0, 0,\n",
       "       1, 0, 0, 0, 0, 0, 0, 0, 0, 0, 1, 1, 1, 1, 1, 1, 1, 0, 1, 0, 1, 0,\n",
       "       0, 1, 0, 0, 1, 0, 1, 0, 0, 0, 1, 1, 0, 0, 0, 1, 1, 0, 1, 1, 0, 1,\n",
       "       0, 0, 1, 1, 1, 1, 0, 0, 0, 1, 0, 0, 0, 1, 1, 0, 1, 1, 1, 0, 0, 1,\n",
       "       1, 1, 1, 1, 1, 0, 1, 0], dtype=int64)"
      ]
     },
     "execution_count": 14,
     "metadata": {},
     "output_type": "execute_result"
    }
   ],
   "source": [
    "y_train.values.ravel()"
   ]
  }
 ],
 "metadata": {
  "kernelspec": {
   "display_name": "Python 3",
   "language": "python",
   "name": "python3"
  },
  "language_info": {
   "codemirror_mode": {
    "name": "ipython",
    "version": 3
   },
   "file_extension": ".py",
   "mimetype": "text/x-python",
   "name": "python",
   "nbconvert_exporter": "python",
   "pygments_lexer": "ipython3",
   "version": "3.6.5"
  }
 },
 "nbformat": 4,
 "nbformat_minor": 2
}
