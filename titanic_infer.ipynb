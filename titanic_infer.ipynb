{
 "cells": [
  {
   "cell_type": "code",
   "execution_count": 4,
   "metadata": {},
   "outputs": [
    {
     "name": "stderr",
     "output_type": "stream",
     "text": [
      "C:\\Users\\gaugo01\\AppData\\Local\\Continuum\\anaconda3\\lib\\site-packages\\sklearn\\preprocessing\\label.py:151: DeprecationWarning: The truth value of an empty array is ambiguous. Returning False, but in future this will result in an error. Use `array.size > 0` to check that an array is not empty.\n",
      "  if diff:\n"
     ]
    }
   ],
   "source": [
    "import pandas as pd\n",
    "import pickle\n",
    "import datetime as dt\n",
    "\n",
    "today = dt.datetime.today().strftime('%m%d%Y')\n",
    "\n",
    "test_df = pd.read_csv('Unseen_test.csv', index_col='PassengerId')\n",
    "with open('Best ModelXGBoost.p', 'rb') as f:\n",
    "    clf = pickle.load(f)\n",
    "y_test = clf.predict(test_df)\n",
    "\n",
    "preds = pd.DataFrame({'PassengerId': test_df.index, 'Survived': y_test})\n",
    "preds = preds.set_index('PassengerId')\n",
    "preds.to_csv('Predictions_{}.csv'.format(today))"
   ]
  }
 ],
 "metadata": {
  "kernelspec": {
   "display_name": "Python 3",
   "language": "python",
   "name": "python3"
  },
  "language_info": {
   "codemirror_mode": {
    "name": "ipython",
    "version": 3
   },
   "file_extension": ".py",
   "mimetype": "text/x-python",
   "name": "python",
   "nbconvert_exporter": "python",
   "pygments_lexer": "ipython3",
   "version": "3.6.5"
  }
 },
 "nbformat": 4,
 "nbformat_minor": 2
}
